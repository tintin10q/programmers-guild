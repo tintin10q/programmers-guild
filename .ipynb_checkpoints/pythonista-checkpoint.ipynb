{
 "cells": [
  {
   "cell_type": "markdown",
   "id": "bc1d4e17a75f264b",
   "metadata": {},
   "source": [
    "# Sections\n",
    "\n",
    "## 0 Match\n",
    "\n",
    "Use match! Match is great!\n",
    "\n",
    "## 1 Data classes\n",
    "\n",
    "I think you should minimize the raw lists and dicts you pass around.\n",
    "Using data classes with everything in there is usually super nice.\n",
    "\n",
    "## 2 Dunder methods\n",
    "\n",
    "We have to get on the same level by knowing about dunders. \n",
    "Many of python is implemented using dunders. \n",
    "\n",
    "Like rust traits and haskell classes and in JS you also have this on classes. \n",
    "\n",
    "## 3 Many small things add up\n",
    "\n",
    "Many small things to get better at python\n",
    "\n",
    "## 4 Decorators \n",
    "\n",
    "What does the @something mean above a function? \n",
    "Learn how to make those yourself here!"
   ]
  },
  {
   "cell_type": "markdown",
   "id": "83639f94-300a-4f93-bf4d-81a171ea9c32",
   "metadata": {},
   "source": [
    "# 0 Match\n",
    "\n",
    "Since python 3.10 they introduced the match keyword it allows you to do pattern matching. \n",
    "Here are some cool examples of match. "
   ]
  },
  {
   "cell_type": "markdown",
   "id": "9f137d9f-51e6-4046-8323-a8e71acc4330",
   "metadata": {},
   "source": [
    "In their simplest form match looks like a worse if. But this is wong.\n"
   ]
  },
  {
   "cell_type": "code",
   "execution_count": 34,
   "id": "dfe82128-0b4b-4c20-9231-5e4243f66754",
   "metadata": {},
   "outputs": [
    {
     "name": "stdout",
     "output_type": "stream",
     "text": [
      "Not found\n",
      "Not found\n"
     ]
    }
   ],
   "source": [
    "response_code = 404\n",
    "\n",
    "match response_code:\n",
    "    case 400:\n",
    "        print(\"BAD request\")\n",
    "    case 404:\n",
    "        print(\"Not found\")\n",
    "    case _:\n",
    "        raise NotImplementedError(f\"Weird status code '{response_code}'\")\n",
    "\n",
    "# How is this different from??\n",
    "\n",
    "if response_code == 400:\n",
    "    print(\"BAD request\")\n",
    "elif response_code == 404:\n",
    "    print(\"Not found\")\n",
    "else:\n",
    "    raise NotImplementedError(f\"Weird status code '{response_code}'\")"
   ]
  },
  {
   "cell_type": "markdown",
   "id": "93dc5088-1b43-4ced-973e-aeb2357f86b7",
   "metadata": {},
   "source": [
    "The fundamental difference is that with an if you probe something to check if something is true.\n",
    "With a match you check if something is like something else. \n",
    "\n",
    "The probing that an if does can lead to breakage while this can never happen with an if."
   ]
  },
  {
   "cell_type": "markdown",
   "id": "88e1e218-a11a-4cdb-9fb1-90e3330ba3c7",
   "metadata": {},
   "source": [
    "Check this example that checks if second element from the tuple is more than 5"
   ]
  },
  {
   "cell_type": "code",
   "execution_count": null,
   "id": "81da95d0-55d6-4389-a005-db1faef79c22",
   "metadata": {},
   "outputs": [],
   "source": [
    "value = [{\"quinten\": (0,137,0)}]\n",
    "\n",
    "def check(value):\n",
    "    match value:\n",
    "        case [{\"quinten\":(_,value,_)}]:\n",
    "            return value > 5\n",
    "        case _:\n",
    "            return False \n",
    "\n",
    "def check2(value):\n",
    "    if value[0][\"quinten\"][1] >\n",
    "\n"
   ]
  },
  {
   "cell_type": "code",
   "execution_count": null,
   "id": "191e415f-b346-490b-b3b7-19b9acb33b8c",
   "metadata": {},
   "outputs": [],
   "source": [
    "# as in match\n",
    "\n"
   ]
  },
  {
   "cell_type": "code",
   "execution_count": null,
   "id": "6dfef683-f62e-4d22-9978-62469a033391",
   "metadata": {},
   "outputs": [],
   "source": [
    "# dict matching, I find this the most useful. Lets say you get a json and you want to know if has all the keys\n",
    "\n",
    "some_dict = {}\n",
    "\n",
    "match "
   ]
  },
  {
   "cell_type": "markdown",
   "id": "1944daa5-d8ce-4678-8af7-de54d6bb53af",
   "metadata": {},
   "source": [
    "# Data classes"
   ]
  },
  {
   "cell_type": "markdown",
   "id": "5d134b3d-a7f6-4490-8c89-6d00e7955feb",
   "metadata": {},
   "source": [
    "Lets say you have to read an input from a file\n",
    "\n",
    "Read input, also show to not do read lines here because you can already iterate file. Then repeat file later.\n",
    "\n",
    "Now you have a couple things from that file. Two lists and configuration values.\n",
    "\n",
    "Now kind of every part of the program needs to have access to this configuration.\n",
    "\n",
    "You could turn it into a dict and then you access the keys {}, add example\n",
    "\n",
    "But there is a better way. Define a data class. \n",
    "A data class is when it would be nice to have your things as a class but you don't want to write an init and stuff.\n",
    "\n",
    "example using the decorator and then using it\n",
    "\n",
    "Python knows. Try to press ctrl+ space and even jupyter notebook will know. It is just so much nicer."
   ]
  },
  {
   "cell_type": "code",
   "execution_count": null,
   "id": "c9340f69-fc9c-401d-b05b-869052732759",
   "metadata": {},
   "outputs": [],
   "source": []
  },
  {
   "cell_type": "markdown",
   "id": "4d1f8b02-a2ef-4322-88be-378a5985078d",
   "metadata": {},
   "source": [
    "Combining match and data classes, reading from an api with nested data classes."
   ]
  },
  {
   "cell_type": "code",
   "execution_count": null,
   "id": "9a3b7d75-3d43-4f83-9ab6-7b0c0d573c1b",
   "metadata": {},
   "outputs": [],
   "source": []
  },
  {
   "cell_type": "markdown",
   "id": "d2a6dcf1-ffb6-478a-81b2-f47d4d2dd0c4",
   "metadata": {},
   "source": [
    "But what is this @decorator?"
   ]
  },
  {
   "cell_type": "markdown",
   "id": "01f4ac06-49ea-4207-8db6-29b7bb988323",
   "metadata": {},
   "source": [
    "# 1 Dunders"
   ]
  },
  {
   "cell_type": "markdown",
   "id": "f8a822d068142fb2",
   "metadata": {},
   "source": [
    "Every Python variable is an `object` or derives from object even things like numbers. \n",
    "\n",
    "Every variable has special methods and properties on them which come from object. \n",
    "But only special because the python machine looks for them. These are called dunders.\n"
   ]
  },
  {
   "cell_type": "code",
   "execution_count": 1,
   "id": "bc98a46b56f302bc",
   "metadata": {},
   "outputs": [
    {
     "data": {
      "text/plain": [
       "True"
      ]
     },
     "execution_count": 1,
     "metadata": {},
     "output_type": "execute_result"
    }
   ],
   "source": [
    "isinstance(137, object)"
   ]
  },
  {
   "cell_type": "code",
   "execution_count": 2,
   "id": "953043f2-7aa5-47b4-8930-c360bde7669a",
   "metadata": {},
   "outputs": [
    {
     "data": {
      "text/plain": [
       "True"
      ]
     },
     "execution_count": 2,
     "metadata": {},
     "output_type": "execute_result"
    }
   ],
   "source": [
    "isinstance(\"hi there\", object)"
   ]
  },
  {
   "cell_type": "code",
   "execution_count": 3,
   "id": "b33cdb292dbcc5a6",
   "metadata": {},
   "outputs": [
    {
     "data": {
      "text/plain": [
       "True"
      ]
     },
     "execution_count": 3,
     "metadata": {},
     "output_type": "execute_result"
    }
   ],
   "source": [
    "a = object()\n",
    "a == a"
   ]
  },
  {
   "cell_type": "code",
   "execution_count": 4,
   "id": "52a2a5ca98bc85c3",
   "metadata": {},
   "outputs": [
    {
     "data": {
      "text/plain": [
       "False"
      ]
     },
     "execution_count": 4,
     "metadata": {},
     "output_type": "execute_result"
    }
   ],
   "source": [
    "b = object()\n",
    "b == a"
   ]
  },
  {
   "cell_type": "markdown",
   "id": "4e1ea3a91d531504",
   "metadata": {},
   "source": [
    "This means that everything in python has all the things that an object has. \n",
    "So what does an object have? You can find all the properties of something in python using the build in `dir` function"
   ]
  },
  {
   "cell_type": "code",
   "execution_count": 5,
   "id": "aae43aaf7481f6fd",
   "metadata": {},
   "outputs": [
    {
     "data": {
      "text/plain": [
       "['__class__',\n",
       " '__delattr__',\n",
       " '__dir__',\n",
       " '__doc__',\n",
       " '__eq__',\n",
       " '__format__',\n",
       " '__ge__',\n",
       " '__getattribute__',\n",
       " '__getstate__',\n",
       " '__gt__',\n",
       " '__hash__',\n",
       " '__init__',\n",
       " '__init_subclass__',\n",
       " '__le__',\n",
       " '__lt__',\n",
       " '__ne__',\n",
       " '__new__',\n",
       " '__reduce__',\n",
       " '__reduce_ex__',\n",
       " '__repr__',\n",
       " '__setattr__',\n",
       " '__sizeof__',\n",
       " '__str__',\n",
       " '__subclasshook__']"
      ]
     },
     "execution_count": 5,
     "metadata": {},
     "output_type": "execute_result"
    }
   ],
   "source": [
    "an_object_instance = object()\n",
    "dir(an_object_instance)"
   ]
  },
  {
   "cell_type": "markdown",
   "id": "f56b456b3e97598b",
   "metadata": {},
   "source": [
    "As you can see a lot of things starting and ending with `__`\n",
    "\n",
    "These methods are called to decide during the runtime what should happen when you do an operation. \n",
    "These are the basic ones that every object has but there are many more that only certain objects have.\n",
    "\n",
    "Here you can check the ones on string and ints"
   ]
  },
  {
   "cell_type": "code",
   "execution_count": 6,
   "id": "d08b00ca-f3ff-4e20-ab49-bf248f83eb30",
   "metadata": {},
   "outputs": [
    {
     "data": {
      "text/plain": [
       "['__abs__',\n",
       " '__add__',\n",
       " '__and__',\n",
       " '__bool__',\n",
       " '__ceil__',\n",
       " '__class__',\n",
       " '__delattr__',\n",
       " '__dir__',\n",
       " '__divmod__',\n",
       " '__doc__',\n",
       " '__eq__',\n",
       " '__float__',\n",
       " '__floor__',\n",
       " '__floordiv__',\n",
       " '__format__',\n",
       " '__ge__',\n",
       " '__getattribute__',\n",
       " '__getnewargs__',\n",
       " '__getstate__',\n",
       " '__gt__',\n",
       " '__hash__',\n",
       " '__index__',\n",
       " '__init__',\n",
       " '__init_subclass__',\n",
       " '__int__',\n",
       " '__invert__',\n",
       " '__le__',\n",
       " '__lshift__',\n",
       " '__lt__',\n",
       " '__mod__',\n",
       " '__mul__',\n",
       " '__ne__',\n",
       " '__neg__',\n",
       " '__new__',\n",
       " '__or__',\n",
       " '__pos__',\n",
       " '__pow__',\n",
       " '__radd__',\n",
       " '__rand__',\n",
       " '__rdivmod__',\n",
       " '__reduce__',\n",
       " '__reduce_ex__',\n",
       " '__repr__',\n",
       " '__rfloordiv__',\n",
       " '__rlshift__',\n",
       " '__rmod__',\n",
       " '__rmul__',\n",
       " '__ror__',\n",
       " '__round__',\n",
       " '__rpow__',\n",
       " '__rrshift__',\n",
       " '__rshift__',\n",
       " '__rsub__',\n",
       " '__rtruediv__',\n",
       " '__rxor__',\n",
       " '__setattr__',\n",
       " '__sizeof__',\n",
       " '__str__',\n",
       " '__sub__',\n",
       " '__subclasshook__',\n",
       " '__truediv__',\n",
       " '__trunc__',\n",
       " '__xor__',\n",
       " 'as_integer_ratio',\n",
       " 'bit_count',\n",
       " 'bit_length',\n",
       " 'conjugate',\n",
       " 'denominator',\n",
       " 'from_bytes',\n",
       " 'imag',\n",
       " 'is_integer',\n",
       " 'numerator',\n",
       " 'real',\n",
       " 'to_bytes']"
      ]
     },
     "execution_count": 6,
     "metadata": {},
     "output_type": "execute_result"
    }
   ],
   "source": [
    "dir(137)"
   ]
  },
  {
   "cell_type": "code",
   "execution_count": 7,
   "id": "0d3e74d3-120b-4f7c-ad77-572a1957ffba",
   "metadata": {},
   "outputs": [
    {
     "data": {
      "text/plain": [
       "['__add__',\n",
       " '__class__',\n",
       " '__contains__',\n",
       " '__delattr__',\n",
       " '__dir__',\n",
       " '__doc__',\n",
       " '__eq__',\n",
       " '__format__',\n",
       " '__ge__',\n",
       " '__getattribute__',\n",
       " '__getitem__',\n",
       " '__getnewargs__',\n",
       " '__getstate__',\n",
       " '__gt__',\n",
       " '__hash__',\n",
       " '__init__',\n",
       " '__init_subclass__',\n",
       " '__iter__',\n",
       " '__le__',\n",
       " '__len__',\n",
       " '__lt__',\n",
       " '__mod__',\n",
       " '__mul__',\n",
       " '__ne__',\n",
       " '__new__',\n",
       " '__reduce__',\n",
       " '__reduce_ex__',\n",
       " '__repr__',\n",
       " '__rmod__',\n",
       " '__rmul__',\n",
       " '__setattr__',\n",
       " '__sizeof__',\n",
       " '__str__',\n",
       " '__subclasshook__',\n",
       " 'capitalize',\n",
       " 'casefold',\n",
       " 'center',\n",
       " 'count',\n",
       " 'encode',\n",
       " 'endswith',\n",
       " 'expandtabs',\n",
       " 'find',\n",
       " 'format',\n",
       " 'format_map',\n",
       " 'index',\n",
       " 'isalnum',\n",
       " 'isalpha',\n",
       " 'isascii',\n",
       " 'isdecimal',\n",
       " 'isdigit',\n",
       " 'isidentifier',\n",
       " 'islower',\n",
       " 'isnumeric',\n",
       " 'isprintable',\n",
       " 'isspace',\n",
       " 'istitle',\n",
       " 'isupper',\n",
       " 'join',\n",
       " 'ljust',\n",
       " 'lower',\n",
       " 'lstrip',\n",
       " 'maketrans',\n",
       " 'partition',\n",
       " 'removeprefix',\n",
       " 'removesuffix',\n",
       " 'replace',\n",
       " 'rfind',\n",
       " 'rindex',\n",
       " 'rjust',\n",
       " 'rpartition',\n",
       " 'rsplit',\n",
       " 'rstrip',\n",
       " 'split',\n",
       " 'splitlines',\n",
       " 'startswith',\n",
       " 'strip',\n",
       " 'swapcase',\n",
       " 'title',\n",
       " 'translate',\n",
       " 'upper',\n",
       " 'zfill']"
      ]
     },
     "execution_count": 7,
     "metadata": {},
     "output_type": "execute_result"
    }
   ],
   "source": [
    "dir(\"hi there\") # String also has many methods that don't start with __"
   ]
  },
  {
   "cell_type": "markdown",
   "id": "323b4b0d-79b6-4955-95ae-c7a7a0218948",
   "metadata": {},
   "source": [
    "## Dunder examples"
   ]
  },
  {
   "cell_type": "markdown",
   "id": "0cea8a8b-33b1-46be-96b0-61b55ab81c87",
   "metadata": {},
   "source": [
    "Many behavoirs of python are decided by how the object implements a certain dunder method. \n",
    "This is great because that way you can make your own objects that do something different when this behavior is called upon.\n",
    "\n",
    "Lets look at some examples."
   ]
  },
  {
   "cell_type": "code",
   "execution_count": 8,
   "id": "4f1143e1-2fcf-4b77-8570-9b06b6501427",
   "metadata": {},
   "outputs": [
    {
     "data": {
      "text/plain": [
       "10"
      ]
     },
     "execution_count": 8,
     "metadata": {},
     "output_type": "execute_result"
    }
   ],
   "source": [
    "5 + 5"
   ]
  },
  {
   "cell_type": "code",
   "execution_count": 9,
   "id": "950044ab-6cb4-4afa-b235-00173b9ff131",
   "metadata": {},
   "outputs": [
    {
     "data": {
      "text/plain": [
       "'HiThere'"
      ]
     },
     "execution_count": 9,
     "metadata": {},
     "output_type": "execute_result"
    }
   ],
   "source": [
    "'Hi' + 'There'"
   ]
  },
  {
   "cell_type": "markdown",
   "id": "f09711ef-bbfc-4ace-923a-a611164ac8f8",
   "metadata": {},
   "source": [
    "Here plus acts different for each object. Not because it is hard coded but because strings just implement the `__add__` dunder differently than ints.\n",
    "For strings its concat and for ints its integer addition. It just happens to be that the + symbol calls `__add__` and it happens to be that this is defined in this way for ints and strings. \n",
    "\n"
   ]
  },
  {
   "cell_type": "code",
   "execution_count": 24,
   "id": "84d95484-a937-4944-b98a-a070c30a13ea",
   "metadata": {},
   "outputs": [],
   "source": [
    "\n",
    "\n",
    "class ConcatInt:\n",
    "\n",
    "    def __init__(self, start: int):\n",
    "        assert isinstance(start, int)\n",
    "        self._value = start\n",
    "        \n",
    "    def __add__(self, other: int | ConcatInt ):\n",
    "        match other:\n",
    "            case int() as value:\n",
    "                pass\n",
    "            case ConcatInt(value):\n",
    "                pass\n",
    "            case _:\n",
    "                raise NotImplemented()\n",
    "                \n",
    "        print(value)\n",
    "        return 3"
   ]
  },
  {
   "cell_type": "code",
   "execution_count": 11,
   "id": "5c3f75ad7615438",
   "metadata": {},
   "outputs": [
    {
     "name": "stdout",
     "output_type": "stream",
     "text": [
      "Calling plus and adding 1 to 10\n",
      "11\n"
     ]
    }
   ],
   "source": [
    "class AddOne:\n",
    "    \n",
    "    def __add__(self, other: int):\n",
    "        if not isinstance(other, int):\n",
    "            raise NotImplementedError\n",
    "        print(\"Calling plus and adding 1 to\", other)\n",
    "        return other + 1 \n",
    "\n",
    "add_1 = AddOne()\n",
    "\n",
    "print(add_1 + 10)\n",
    "    \n",
    "    "
   ]
  },
  {
   "cell_type": "markdown",
   "id": "859ba486-eee4-4389-a397-bce6535c8b23",
   "metadata": {},
   "source": [
    "- len() just calls `__len__` so len only works if your object has `__len__`,\n",
    "- same for `__dir__` actually. \n",
    "- print() calls `__repr__`\n",
    "- == calls `__eq__`\n",
    "- ^ calls `__xor__`\n",
    "- for class `__iter__` which returns an iterable, an iterable is an object with `__next__`. You can then call next. Do example of reading input again for this but with next, no need to start a for loop\n"
   ]
  },
  {
   "cell_type": "code",
   "execution_count": null,
   "id": "855775be-109b-4cc4-a5be-af4053610ca7",
   "metadata": {},
   "outputs": [],
   "source": []
  },
  {
   "cell_type": "markdown",
   "id": "1fe05628-4984-4b5b-87fb-a90c25e6c38e",
   "metadata": {},
   "source": [
    "- with statements call `__enter__` and `__exit__`"
   ]
  },
  {
   "cell_type": "markdown",
   "id": "816ae93e-41bd-49d1-a5d6-a6fb126a2dae",
   "metadata": {},
   "source": [
    "Nice python things\n",
    "\n",
    "\n",
    "- list generators, te grote list generators,\n",
    "- if met negative case in plaats van else\n",
    "- een bytes is gewoon een list van int van 0 tot 256\n",
    "- typed python\n",
    "- generic types in python\n",
    "-  enumerate\n",
    "\n",
    "## Generators \n",
    "- generators\n",
    "- yield from\n",
    "- 2 way generators\n",
    "\n",
    "## With \n",
    "- Maak een persistant dict\n",
    "- Easy multiprocessing zonder dependencies\n",
    "- set and generator comprehensions\n"
   ]
  },
  {
   "cell_type": "markdown",
   "id": "a254ffca-9ba7-4201-be57-644cab8977b7",
   "metadata": {},
   "source": [
    "Watch video on two from mcoding about 15 features or code smells, for this\n"
   ]
  },
  {
   "cell_type": "markdown",
   "id": "41515275-8e18-4aff-948a-a3ec2655d378",
   "metadata": {},
   "source": [
    "Do an example where you upgrade code with generators, persistantdict, types, dataclasses, types and match. "
   ]
  },
  {
   "cell_type": "code",
   "execution_count": null,
   "id": "8892c8dd-c546-41fa-83f0-c39ddf20395d",
   "metadata": {},
   "outputs": [],
   "source": []
  }
 ],
 "metadata": {
  "kernelspec": {
   "display_name": "Python 3 (ipykernel)",
   "language": "python",
   "name": "python3"
  },
  "language_info": {
   "codemirror_mode": {
    "name": "ipython",
    "version": 3
   },
   "file_extension": ".py",
   "mimetype": "text/x-python",
   "name": "python",
   "nbconvert_exporter": "python",
   "pygments_lexer": "ipython3",
   "version": "3.12.7"
  }
 },
 "nbformat": 4,
 "nbformat_minor": 5
}
